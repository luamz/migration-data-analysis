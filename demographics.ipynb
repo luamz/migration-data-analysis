{
 "cells": [
  {
   "cell_type": "code",
   "execution_count": 2,
   "metadata": {},
   "outputs": [],
   "source": [
    "import pandas as pd\n",
    "import numpy as np\n",
    "import matplotlib.pyplot as plt\n",
    "from IPython.display import display_html"
   ]
  },
  {
   "cell_type": "code",
   "execution_count": 3,
   "metadata": {},
   "outputs": [],
   "source": [
    "df = pd.read_excel('poitou-data.xlsx')"
   ]
  },
  {
   "cell_type": "markdown",
   "source": [
    "## Passenger Demographics"
   ],
   "metadata": {
    "collapsed": false
   }
  },
  {
   "cell_type": "code",
   "execution_count": 4,
   "metadata": {
    "colab": {
     "base_uri": "https://localhost:8080/"
    },
    "id": "zkfcwzFX1em1",
    "outputId": "721b59b2-2f52-4345-bc39-2c47c1a6f993"
   },
   "outputs": [
    {
     "name": "stdout",
     "output_type": "stream",
     "text": [
      "Total Number of Migrants:  561\n"
     ]
    }
   ],
   "source": [
    "print('Total Number of Migrants: ',len(df))"
   ]
  },
  {
   "cell_type": "markdown",
   "source": [
    "### Nationality"
   ],
   "metadata": {
    "collapsed": false
   }
  },
  {
   "cell_type": "code",
   "execution_count": 5,
   "metadata": {},
   "outputs": [
    {
     "data": {
      "text/plain": "          Spanish  French  Italian\nMigrants      557       3        1",
      "text/html": "<div>\n<style scoped>\n    .dataframe tbody tr th:only-of-type {\n        vertical-align: middle;\n    }\n\n    .dataframe tbody tr th {\n        vertical-align: top;\n    }\n\n    .dataframe thead th {\n        text-align: right;\n    }\n</style>\n<table border=\"1\" class=\"dataframe\">\n  <thead>\n    <tr style=\"text-align: right;\">\n      <th></th>\n      <th>Spanish</th>\n      <th>French</th>\n      <th>Italian</th>\n    </tr>\n  </thead>\n  <tbody>\n    <tr>\n      <th>Migrants</th>\n      <td>557</td>\n      <td>3</td>\n      <td>1</td>\n    </tr>\n  </tbody>\n</table>\n</div>"
     },
     "metadata": {},
     "output_type": "display_data"
    }
   ],
   "source": [
    "nationalities = df['nationality'].value_counts().to_frame('Migrants')\n",
    "display(nationalities.T)"
   ]
  },
  {
   "cell_type": "markdown",
   "metadata": {},
   "source": [
    "### Age Distribution"
   ]
  },
  {
   "cell_type": "code",
   "execution_count": 6,
   "outputs": [],
   "source": [
    "months = df['months'].dropna().astype(int)\n",
    "years = df['years'].dropna().astype(int)"
   ],
   "metadata": {
    "collapsed": false
   }
  },
  {
   "cell_type": "code",
   "execution_count": 7,
   "outputs": [
    {
     "name": "stdout",
     "output_type": "stream",
     "text": [
      "Total of passengers without age: 3\n"
     ]
    }
   ],
   "source": [
    "no_age = df['years'].isna() & df['months'].isna()\n",
    "print(\"Total of passengers without age:\", no_age.sum())"
   ],
   "metadata": {
    "collapsed": false
   }
  },
  {
   "cell_type": "code",
   "execution_count": 8,
   "outputs": [
    {
     "name": "stdout",
     "output_type": "stream",
     "text": [
      "Total of infants: 24\n"
     ]
    },
    {
     "data": {
      "text/plain": "                  (0, 3]  (3, 6]  (6, 9]  (9, 12]\nInfants (Months)       7       9       7        1",
      "text/html": "<div>\n<style scoped>\n    .dataframe tbody tr th:only-of-type {\n        vertical-align: middle;\n    }\n\n    .dataframe tbody tr th {\n        vertical-align: top;\n    }\n\n    .dataframe thead th {\n        text-align: right;\n    }\n</style>\n<table border=\"1\" class=\"dataframe\">\n  <thead>\n    <tr style=\"text-align: right;\">\n      <th></th>\n      <th>(0, 3]</th>\n      <th>(3, 6]</th>\n      <th>(6, 9]</th>\n      <th>(9, 12]</th>\n    </tr>\n  </thead>\n  <tbody>\n    <tr>\n      <th>Infants (Months)</th>\n      <td>7</td>\n      <td>9</td>\n      <td>7</td>\n      <td>1</td>\n    </tr>\n  </tbody>\n</table>\n</div>"
     },
     "metadata": {},
     "output_type": "display_data"
    }
   ],
   "source": [
    "infants = pd.cut(months, bins=[0,3,6,9,12]).value_counts().sort_index()\\\n",
    "            .to_frame('Infants (Months)')\n",
    "print(\"Total of infants:\", sum(infants.values)[0])\n",
    "display(infants.T)"
   ],
   "metadata": {
    "collapsed": false
   }
  },
  {
   "cell_type": "code",
   "execution_count": 9,
   "outputs": [
    {
     "name": "stdout",
     "output_type": "stream",
     "text": [
      "Total of kids: 176\n"
     ]
    },
    {
     "data": {
      "text/plain": "              (0, 2]  (2, 4]  (4, 6]  (6, 8]  (8, 10]\nKids (Years)      46      43      31      26       30",
      "text/html": "<div>\n<style scoped>\n    .dataframe tbody tr th:only-of-type {\n        vertical-align: middle;\n    }\n\n    .dataframe tbody tr th {\n        vertical-align: top;\n    }\n\n    .dataframe thead th {\n        text-align: right;\n    }\n</style>\n<table border=\"1\" class=\"dataframe\">\n  <thead>\n    <tr style=\"text-align: right;\">\n      <th></th>\n      <th>(0, 2]</th>\n      <th>(2, 4]</th>\n      <th>(4, 6]</th>\n      <th>(6, 8]</th>\n      <th>(8, 10]</th>\n    </tr>\n  </thead>\n  <tbody>\n    <tr>\n      <th>Kids (Years)</th>\n      <td>46</td>\n      <td>43</td>\n      <td>31</td>\n      <td>26</td>\n      <td>30</td>\n    </tr>\n  </tbody>\n</table>\n</div>"
     },
     "metadata": {},
     "output_type": "display_data"
    }
   ],
   "source": [
    "kids = pd.cut(years, bins=[0, 2, 4, 6, 8, 10]).value_counts().sort_index()\\\n",
    "            .to_frame('Kids (Years)')\n",
    "print(\"Total of kids:\", sum(kids.values)[0])\n",
    "display(kids.T)"
   ],
   "metadata": {
    "collapsed": false
   }
  },
  {
   "cell_type": "code",
   "execution_count": 10,
   "outputs": [
    {
     "name": "stdout",
     "output_type": "stream",
     "text": [
      "Total of teens: 102\n"
     ]
    },
    {
     "data": {
      "text/plain": "                   (10, 12]  (12, 14]  (14, 16]  (16, 18]  (18, 20]\nTeenagers (Years)        28        32        11        18        13",
      "text/html": "<div>\n<style scoped>\n    .dataframe tbody tr th:only-of-type {\n        vertical-align: middle;\n    }\n\n    .dataframe tbody tr th {\n        vertical-align: top;\n    }\n\n    .dataframe thead th {\n        text-align: right;\n    }\n</style>\n<table border=\"1\" class=\"dataframe\">\n  <thead>\n    <tr style=\"text-align: right;\">\n      <th></th>\n      <th>(10, 12]</th>\n      <th>(12, 14]</th>\n      <th>(14, 16]</th>\n      <th>(16, 18]</th>\n      <th>(18, 20]</th>\n    </tr>\n  </thead>\n  <tbody>\n    <tr>\n      <th>Teenagers (Years)</th>\n      <td>28</td>\n      <td>32</td>\n      <td>11</td>\n      <td>18</td>\n      <td>13</td>\n    </tr>\n  </tbody>\n</table>\n</div>"
     },
     "metadata": {},
     "output_type": "display_data"
    }
   ],
   "source": [
    "teens = pd.cut(years, bins=[10, 12,14, 16, 18, 20]).value_counts().sort_index()\\\n",
    "            .to_frame('Teenagers (Years)')\n",
    "print(\"Total of teens:\", sum(teens.values)[0])\n",
    "display(teens.T)"
   ],
   "metadata": {
    "collapsed": false
   }
  },
  {
   "cell_type": "code",
   "execution_count": 11,
   "metadata": {},
   "outputs": [
    {
     "name": "stdout",
     "output_type": "stream",
     "text": [
      "Total of adults: 255\n"
     ]
    },
    {
     "data": {
      "text/plain": "                (20, 30]  (30, 40]  (40, 50]  (50, 60]  (60, 70]  (70, 80]\nAdults (Years)       106        93        40        12         3         1",
      "text/html": "<div>\n<style scoped>\n    .dataframe tbody tr th:only-of-type {\n        vertical-align: middle;\n    }\n\n    .dataframe tbody tr th {\n        vertical-align: top;\n    }\n\n    .dataframe thead th {\n        text-align: right;\n    }\n</style>\n<table border=\"1\" class=\"dataframe\">\n  <thead>\n    <tr style=\"text-align: right;\">\n      <th></th>\n      <th>(20, 30]</th>\n      <th>(30, 40]</th>\n      <th>(40, 50]</th>\n      <th>(50, 60]</th>\n      <th>(60, 70]</th>\n      <th>(70, 80]</th>\n    </tr>\n  </thead>\n  <tbody>\n    <tr>\n      <th>Adults (Years)</th>\n      <td>106</td>\n      <td>93</td>\n      <td>40</td>\n      <td>12</td>\n      <td>3</td>\n      <td>1</td>\n    </tr>\n  </tbody>\n</table>\n</div>"
     },
     "metadata": {},
     "output_type": "display_data"
    }
   ],
   "source": [
    "adults = pd.cut(years, bins=[20, 30, 40, 50, 60, 70, 80]).value_counts().sort_index().to_frame('Adults (Years)')\n",
    "print(\"Total of adults:\", sum(adults.values)[0])\n",
    "display(adults.T)\n"
   ]
  },
  {
   "cell_type": "markdown",
   "source": [
    "## Gender Distribution"
   ],
   "metadata": {
    "collapsed": false
   }
  },
  {
   "cell_type": "code",
   "execution_count": 28,
   "outputs": [
    {
     "name": "stdout",
     "output_type": "stream",
     "text": [
      "M    302\n",
      "F    259\n",
      "Name: gender, dtype: int64\n"
     ]
    },
    {
     "data": {
      "text/plain": "<Figure size 640x480 with 1 Axes>",
      "image/png": "[encoded data removed]"
     },
     "metadata": {},
     "output_type": "display_data"
    }
   ],
   "source": [
    "df[\"gender\"].value_counts().plot(kind=\"pie\")\n",
    "print(df[\"gender\"].value_counts())"
   ],
   "metadata": {
    "collapsed": false
   }
  },
  {
   "cell_type": "markdown",
   "metadata": {},
   "source": []
  }
 ],
 "metadata": {
  "colab": {
   "provenance": []
  },
  "kernelspec": {
   "display_name": "Python 3 (ipykernel)",
   "language": "python",
   "name": "python3"
  },
  "language_info": {
   "codemirror_mode": {
    "name": "ipython",
    "version": 3
   },
   "file_extension": ".py",
   "mimetype": "text/x-python",
   "name": "python",
   "nbconvert_exporter": "python",
   "pygments_lexer": "ipython3",
   "version": "3.8.14"
  }
 },
 "nbformat": 4,
 "nbformat_minor": 1
}

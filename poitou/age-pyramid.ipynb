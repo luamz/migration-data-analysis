{
 "cells": [
  {
   "cell_type": "code",
   "execution_count": 38,
   "metadata": {
    "collapsed": true
   },
   "outputs": [],
   "source": [
    "import pandas as pd\n",
    "import plotly.graph_objects as gp"
   ]
  },
  {
   "cell_type": "code",
   "execution_count": 1,
   "outputs": [
    {
     "ename": "NameError",
     "evalue": "name 'pd' is not defined",
     "output_type": "error",
     "traceback": [
      "\u001B[0;31m---------------------------------------------------------------------------\u001B[0m",
      "\u001B[0;31mNameError\u001B[0m                                 Traceback (most recent call last)",
      "Cell \u001B[0;32mIn [1], line 1\u001B[0m\n\u001B[0;32m----> 1\u001B[0m df \u001B[38;5;241m=\u001B[39m \u001B[43mpd\u001B[49m\u001B[38;5;241m.\u001B[39mread_excel(\u001B[38;5;124m'\u001B[39m\u001B[38;5;124mpoitou-data.xlsx\u001B[39m\u001B[38;5;124m'\u001B[39m)\n\u001B[1;32m      2\u001B[0m age_pyramid \u001B[38;5;241m=\u001B[39m pd\u001B[38;5;241m.\u001B[39mDataFrame()\n\u001B[1;32m      3\u001B[0m age_pyramid[\u001B[38;5;124m\"\u001B[39m\u001B[38;5;124mmale\u001B[39m\u001B[38;5;124m\"\u001B[39m] \u001B[38;5;241m=\u001B[39m df[df\u001B[38;5;241m.\u001B[39mgender\u001B[38;5;241m==\u001B[39m\u001B[38;5;124m\"\u001B[39m\u001B[38;5;124mM\u001B[39m\u001B[38;5;124m\"\u001B[39m]\u001B[38;5;241m.\u001B[39myears\\\n\u001B[1;32m      4\u001B[0m     \u001B[38;5;241m.\u001B[39mvalue_counts(bins\u001B[38;5;241m=\u001B[39m[\u001B[38;5;241m0\u001B[39m,\u001B[38;5;241m4\u001B[39m,\u001B[38;5;241m5\u001B[39m,\u001B[38;5;241m9\u001B[39m,\u001B[38;5;241m14\u001B[39m,\u001B[38;5;241m19\u001B[39m,\u001B[38;5;241m24\u001B[39m,\u001B[38;5;241m29\u001B[39m,\u001B[38;5;241m34\u001B[39m,\u001B[38;5;241m39\u001B[39m,\u001B[38;5;241m44\u001B[39m,\u001B[38;5;241m49\u001B[39m,\u001B[38;5;241m54\u001B[39m,\u001B[38;5;241m59\u001B[39m,\u001B[38;5;241m64\u001B[39m,\u001B[38;5;241m69\u001B[39m,\u001B[38;5;241m74\u001B[39m,\u001B[38;5;241m79\u001B[39m])\u001B[38;5;241m.\u001B[39msort_index()\n",
      "\u001B[0;31mNameError\u001B[0m: name 'pd' is not defined"
     ]
    }
   ],
   "source": [
    "df = pd.read_excel('poitou-data.xlsx')\n",
    "age_pyramid = pd.DataFrame()\n",
    "age_pyramid[\"male\"] = df[df.gender==\"M\"].years\\\n",
    "    .value_counts(bins=[0,4,5,9,14,19,24,29,34,39,44,49,54,59,64,69,74,79]).sort_index()\n",
    "age_pyramid[\"female\"] = df[df.gender==\"F\"].years.\\\n",
    "    value_counts(bins=[0,4,5,9,14,19,24,29,34,39,44,49,54,59,64,69,74,79]).sort_index()\n",
    "age_pyramid[\"female\"] = age_pyramid[\"female\"]\n",
    "age_pyramid[\"age\"] = age_pyramid.index"
   ],
   "metadata": {
    "collapsed": false
   }
  },
  {
   "cell_type": "code",
   "execution_count": 2,
   "outputs": [
    {
     "ename": "NameError",
     "evalue": "name 'age_pyramid' is not defined",
     "output_type": "error",
     "traceback": [
      "\u001B[0;31m---------------------------------------------------------------------------\u001B[0m",
      "\u001B[0;31mNameError\u001B[0m                                 Traceback (most recent call last)",
      "Cell \u001B[0;32mIn [2], line 1\u001B[0m\n\u001B[0;32m----> 1\u001B[0m y_age \u001B[38;5;241m=\u001B[39m \u001B[43mage_pyramid\u001B[49m[\u001B[38;5;124m'\u001B[39m\u001B[38;5;124mage\u001B[39m\u001B[38;5;124m'\u001B[39m]\n\u001B[1;32m      2\u001B[0m x_M \u001B[38;5;241m=\u001B[39m age_pyramid[\u001B[38;5;124m'\u001B[39m\u001B[38;5;124mmale\u001B[39m\u001B[38;5;124m'\u001B[39m]\n\u001B[1;32m      3\u001B[0m x_F \u001B[38;5;241m=\u001B[39m age_pyramid[\u001B[38;5;124m'\u001B[39m\u001B[38;5;124mfemale\u001B[39m\u001B[38;5;124m'\u001B[39m] \u001B[38;5;241m*\u001B[39m \u001B[38;5;241m-\u001B[39m\u001B[38;5;241m1\u001B[39m\n",
      "\u001B[0;31mNameError\u001B[0m: name 'age_pyramid' is not defined"
     ]
    }
   ],
   "source": [
    "y_age = age_pyramid['age']\n",
    "x_M = age_pyramid['male']\n",
    "x_F = age_pyramid['female'] * -1\n",
    "\n",
    "# Creating instance of the figure\n",
    "fig = gp.Figure()\n",
    "\n",
    "# Adding Male data to the figure\n",
    "fig.add_trace(gp.Bar(y= y_age, x = x_M,name = 'Male',orientation = 'h'))\n",
    "\n",
    "# Adding Female data to the figure\n",
    "fig.add_trace(gp.Bar(y = y_age, x = x_F,name = 'Female', orientation = 'h'))\n",
    "\n",
    "# Updating the layout for our graph\n",
    "fig.update_layout(title = 'Population Pyramid of India-2019',\n",
    "                 title_font_size = 22, barmode = 'relative',\n",
    "                 bargap = 0.0, bargroupgap = 0,\n",
    "\n",
    "                 )\n",
    "\n",
    "fig.show()"
   ],
   "metadata": {
    "collapsed": false
   }
  },
  {
   "cell_type": "code",
   "execution_count": null,
   "outputs": [],
   "source": [],
   "metadata": {
    "collapsed": false
   }
  }
 ],
 "metadata": {
  "kernelspec": {
   "display_name": "Python 3",
   "language": "python",
   "name": "python3"
  },
  "language_info": {
   "codemirror_mode": {
    "name": "ipython",
    "version": 2
   },
   "file_extension": ".py",
   "mimetype": "text/x-python",
   "name": "python",
   "nbconvert_exporter": "python",
   "pygments_lexer": "ipython2",
   "version": "2.7.6"
  }
 },
 "nbformat": 4,
 "nbformat_minor": 0
}

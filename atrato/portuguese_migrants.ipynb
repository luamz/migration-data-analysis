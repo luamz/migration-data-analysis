{
 "cells": [
  {
   "cell_type": "markdown",
   "metadata": {},
   "source": [
    "## Analyzing Atrato's Portuguese Migrants 🇵🇹"
   ]
  },
  {
   "cell_type": "code",
   "execution_count": 76,
   "metadata": {},
   "outputs": [],
   "source": [
    "import pandas as pd\n",
    "import geopandas as gpd\n",
    "import numpy as np\n",
    "import pylab as pl\n",
    "import matplotlib.pyplot as plt\n",
    "%matplotlib inline"
   ]
  },
  {
   "cell_type": "code",
   "execution_count": 77,
   "metadata": {},
   "outputs": [],
   "source": [
    "df = pd.read_excel('atrato-data.xlsx')\n",
    "df = df[df.nationality==\"Portuguese\"]"
   ]
  },
  {
   "cell_type": "markdown",
   "source": [
    "### Demographics"
   ],
   "metadata": {
    "collapsed": false
   }
  },
  {
   "cell_type": "code",
   "execution_count": 78,
   "metadata": {},
   "outputs": [
    {
     "ename": "TypeError",
     "evalue": "'module' object is not callable",
     "output_type": "error",
     "traceback": [
      "\u001B[0;31m---------------------------------------------------------------------------\u001B[0m",
      "\u001B[0;31mTypeError\u001B[0m                                 Traceback (most recent call last)",
      "Cell \u001B[0;32mIn [78], line 1\u001B[0m\n\u001B[0;32m----> 1\u001B[0m \u001B[43mdisplay\u001B[49m\u001B[43m(\u001B[49m\u001B[38;5;124;43m\"\u001B[39;49m\u001B[38;5;124;43mTotal of Portuguese migrants:\u001B[39;49m\u001B[38;5;132;43;01m{}\u001B[39;49;00m\u001B[38;5;124;43m\"\u001B[39;49m\u001B[38;5;241;43m.\u001B[39;49m\u001B[43mformat\u001B[49m\u001B[43m(\u001B[49m\u001B[38;5;28;43mlen\u001B[39;49m\u001B[43m(\u001B[49m\u001B[43mdf\u001B[49m\u001B[43m)\u001B[49m\u001B[43m)\u001B[49m\u001B[43m)\u001B[49m\n",
      "\u001B[0;31mTypeError\u001B[0m: 'module' object is not callable"
     ]
    }
   ],
   "source": [
    "display(\"Total of Portuguese migrants:{}\".format(len(df)))"
   ]
  },
  {
   "cell_type": "code",
   "execution_count": null,
   "metadata": {},
   "outputs": [],
   "source": [
    "gender = df[\"gender\"].to_frame(\"Gender\").value_counts().to_frame(\"Total\")\n",
    "gender.plot.pie(title=\"Gender Distribution\", figsize=(3,3), colors = ['green','red'],\n",
    "                autopct=(lambda prct_value: '{:.1f}%\\n{:.0f}'.format(prct_value,len(df)*prct_value/100)),\n",
    "                shadow=True, startangle=90, labels=[\"Male\",\"Female\"], y='Total').get_legend().remove()"
   ]
  },
  {
   "cell_type": "markdown",
   "source": [
    "### Travel"
   ],
   "metadata": {
    "collapsed": false
   }
  },
  {
   "cell_type": "code",
   "execution_count": null,
   "outputs": [],
   "source": [
    "passport = df[\"found_passport\"].to_frame(\"Passports Found\").value_counts().to_frame(\"Total\")\n",
    "passport.plot.pie(title=\"Passports\", figsize=(3,3), colors = ('steelblue','plum'),\n",
    "                autopct=(lambda prct_value: '{:.1f}%\\n{:.0f}'.format(prct_value,len(df)*prct_value/100)),\n",
    "                shadow=True, startangle=90, labels=[\"Found\",\"Not Found\"], y='Total').get_legend().remove()"
   ],
   "metadata": {
    "collapsed": false
   }
  },
  {
   "cell_type": "code",
   "execution_count": null,
   "outputs": [],
   "source": [
    "distritos_geodata = gpd.read_file(\"https://raw.githubusercontent.com/nmota/caop_GeoJSON/master/ContinenteDistritos.geojson\")\n",
    "distritos_data = pd.read_csv(\"naturality_distritos.csv\", converters={'DI': str})"
   ],
   "metadata": {
    "collapsed": false
   }
  },
  {
   "cell_type": "code",
   "execution_count": null,
   "outputs": [],
   "source": [
    "distritos_map = distritos_geodata.merge(distritos_data, on=\"DI\")\n",
    "distritos_map = distritos_map[[\"DI\", \"geometry\", \"counter\"]]\n",
    "distritos_map.plot(column = \"counter\",cmap='YlGnBu',figsize=(16,10),  legend=True,edgecolor=\"black\")\n",
    "display.display(pl.gcf())\n",
    "display.clear_output(wait=True)\n",
    "plt.close()"
   ],
   "metadata": {
    "collapsed": false
   }
  },
  {
   "cell_type": "code",
   "execution_count": null,
   "outputs": [],
   "source": [],
   "metadata": {
    "collapsed": false
   }
  }
 ],
 "metadata": {
  "kernelspec": {
   "display_name": "Python 3 (ipykernel)",
   "language": "python",
   "name": "python3"
  },
  "language_info": {
   "codemirror_mode": {
    "name": "ipython",
    "version": 3
   },
   "file_extension": ".py",
   "mimetype": "text/x-python",
   "name": "python",
   "nbconvert_exporter": "python",
   "pygments_lexer": "ipython3",
   "version": "3.8.14"
  }
 },
 "nbformat": 4,
 "nbformat_minor": 1
}
